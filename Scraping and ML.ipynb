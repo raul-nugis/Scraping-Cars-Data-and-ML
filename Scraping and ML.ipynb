{
 "cells": [
  {
   "cell_type": "markdown",
   "metadata": {},
   "source": [
    "<img class=\"ms edge\" alt=\"KPMG logo\" src=\"https://assets.kpmg/content/dam/kpmg/xx/images/kpmg-logo.jpg\">\n",
    "\n",
    "by Raul Nugis, Sept 2019\n",
    "\n",
    "# Example of scraping market data from a commercial site and creating ML model to predict prices of used cars"
   ]
  },
  {
   "cell_type": "code",
   "execution_count": 1,
   "metadata": {
    "collapsed": true,
    "scrolled": false
   },
   "outputs": [],
   "source": [
    "import pandas as pd\n",
    "import numpy as np\n",
    "from matplotlib import pyplot\n",
    "import matplotlib.pyplot as plt\n",
    "import requests\n",
    "    \n",
    "import warnings\n",
    "warnings.filterwarnings('ignore')\n",
    "\n",
    "from sklearn.linear_model import LinearRegression\n",
    "from sklearn import linear_model\n",
    "from sklearn.linear_model import RidgeCV\n",
    "from sklearn.neighbors import KNeighborsRegressor\n",
    "from sklearn.tree import DecisionTreeRegressor\n",
    "from sklearn.ensemble import RandomForestRegressor\n",
    "from sklearn.ensemble import GradientBoostingRegressor"
   ]
  },
  {
   "cell_type": "markdown",
   "metadata": {},
   "source": [
    "# Scrape Business Data from the internet and vizualize resuls\n",
    "\n",
    "In the following excercise we will scrape data from a car sales portal and have an overview about the market for a randomly chosen used car model.\n",
    "We will be doing a little of descriptive statistics with this data and then create ML model to predict prices of used cars based on this market data."
   ]
  },
  {
   "cell_type": "markdown",
   "metadata": {},
   "source": [
    "#### First, function \"get_cars\" is created to get web page data\n",
    "\n",
    "Web page contents can be downloaded with 'requests' library like this: \n",
    "\n",
    "\n",
    "<STRONG>contents = requests.get(link1)</STRONG>\n",
    "\n",
    "Then, the function \"get_cars\" can be used to parse web page data into a DataFrame\n",
    "\n",
    "<STRONG>first_page = get_cars(mark, contents)</STRONG>"
   ]
  },
  {
   "cell_type": "code",
   "execution_count": 2,
   "metadata": {
    "collapsed": true
   },
   "outputs": [],
   "source": [
    "def get_cars(mark, contents):\n",
    "\n",
    "    '''Retrieves car data from web page contents\n",
    "    requires pandas, bs4, re and returns DataFrame with market data\n",
    "    '''\n",
    "    \n",
    "    import pandas as pd\n",
    "    from bs4 import BeautifulSoup as bs\n",
    "    import re\n",
    "    import numpy as np\n",
    "\n",
    "    # DataFrames setup\n",
    "\n",
    "    data_columns = ['No', 'Engine', 'kW', 'KM', 'Type', 'Drive', 'Year', 'Fuel', 'Transmission', 'Price']\n",
    "    car_data = pd.DataFrame(index = range(0,1))\n",
    "    for column in data_columns:\n",
    "        car_data[column] = 'Puudub'\n",
    "    car_table = pd.DataFrame(columns = ['No','Engine','kW','KM','Type','Drive','Year','Fuel','Transmission','Price'])\n",
    "    \n",
    "    # Parse web contents\n",
    "    \n",
    "    try:\n",
    "        soup = bs(contents.text, 'html.parser')\n",
    "    except:\n",
    "        print('Could not parse web contents')\n",
    "        return car_table\n",
    "    try:\n",
    "        table = soup.find( \"table\", {\"id\":\"usedVehiclesSearchResult\"} )\n",
    "        rows = table.findAll(lambda tag: tag.name=='tr')\n",
    "    except:\n",
    "        print('Did not find car table')\n",
    "        return car_table\n",
    "\n",
    "    # Car types\n",
    "\n",
    "    types = ['sedaan',\n",
    "             'luukpära',\n",
    "             'universaal',\n",
    "             'mahtuniversaal',\n",
    "             'kupee',\n",
    "             'kabriolett',\n",
    "             'pikapp',\n",
    "             'limusiin']\n",
    "\n",
    "    drives = ['esivedu',\n",
    "              'tagavedu',\n",
    "              'nelikvedu']\n",
    "\n",
    "    engine_re = re.escape(mark) + r'.*?(\\d+\\.{0,1}\\d+) '\n",
    "    kw_re = re.escape(mark) + r'.*?\\d+\\.{0,1}\\d+.*?(\\d+) kW'\n",
    "\n",
    "    # Read table\n",
    "\n",
    "    i = 0\n",
    "    for row in rows[1:]:    \n",
    "        year = engine = kw = fuel = transmission = km = type_= drive = price = 'Puudub'\n",
    "        cols = row.find_all('td')\n",
    "\n",
    "        cols = [x.text.strip() for x in cols]\n",
    "        \n",
    "        if len(cols) == 8:\n",
    "            year = cols[3]\n",
    "            fuel = cols[4]\n",
    "            transmission = cols[5]\n",
    "            price = cols[7]\n",
    "            if price.find('\\xa0')  >  -1:\n",
    "                price = price.replace('\\xa0', '')\n",
    "                \n",
    "            if cols[1].find(mark) > -1:\n",
    "                try:\n",
    "                    engine = re.search(engine_re, cols[1]).group(1)\n",
    "                except:\n",
    "                    pass\n",
    "                try:\n",
    "                    kw = re.search(kw_re, cols[1]).group(1)\n",
    "                except:\n",
    "                    pass\n",
    "\n",
    "        extras = row.find_all('div')\n",
    "        cols2 = [x.text.strip() for x in extras]\n",
    "\n",
    "        if len(cols2) == 2:\n",
    "            cols2_elements = cols2[0].split('\\xa0')\n",
    "\n",
    "            if len(cols2_elements) >= 3:\n",
    "\n",
    "                if cols2_elements[2] == 'km':\n",
    "                    km = str(cols2_elements[0]) + str(cols2_elements[1])\n",
    "                if cols2_elements[1] == 'km':\n",
    "                    km = str(cols2_elements[0])\n",
    "\n",
    "\n",
    "            for element in cols2_elements:\n",
    "                try:\n",
    "                    location = types.index(element)\n",
    "                    if location > -1:\n",
    "                        type_ = types[location]\n",
    "                except:\n",
    "                    pass\n",
    "\n",
    "            for element in cols2_elements:\n",
    "                try:\n",
    "                    location = drives.index(element)\n",
    "                    if location > -1:\n",
    "                        drive = drives[location]\n",
    "                except:\n",
    "                    pass\n",
    "\n",
    "        # Saving to dataframe\n",
    "\n",
    "        car_data['No'][0:1] = i\n",
    "        car_data['Engine'][0:1] = engine\n",
    "        car_data['kW'][0:1] = kw\n",
    "        car_data['KM'][0:1] = km\n",
    "        car_data['Type'][0:1] = type_\n",
    "        car_data['Drive'][0:1] = drive\n",
    "        car_data['Year'][0:1] = year\n",
    "        car_data['Fuel'][0:1] = fuel\n",
    "        car_data['Transmission'][0:1] = transmission\n",
    "        car_data['Price'][0:1] = price\n",
    "\n",
    "        car_table = car_table.append(car_data)\n",
    "        i += 1\n",
    "    \n",
    "    message = str(i) + ' Downloaded ' + str(len(car_table)) + ' lines of car data for ' + mark\n",
    "    print(message)\n",
    "    \n",
    "    # Preparing the DataFrame to make it easier to work with it later\n",
    "    \n",
    "    car_table = car_table.set_index('No')\n",
    "    car_table['Price'] = car_table['Price'].str.replace(' sis. KM','')\n",
    "\n",
    "    for column in car_table.columns:\n",
    "        car_table[column] = car_table[column].replace({'Puudub' : np.nan, '' : np.nan})\n",
    "    car_table = car_table.dropna(how='all')\n",
    "    \n",
    "    car_table = car_table.fillna(0)\n",
    "    for column in ['kW', 'KM', 'Year', 'Price']:\n",
    "        try:\n",
    "            car_table[column] = car_table[column].astype('int')\n",
    "        except:\n",
    "            pass\n",
    "    try:\n",
    "        car_table['Engine'] = car_table['Engine'].astype('float')\n",
    "    except:\n",
    "        pass\n",
    "        \n",
    "    return car_table"
   ]
  },
  {
   "cell_type": "markdown",
   "metadata": {},
   "source": [
    "These are the links (valid Sept 2019) to used cars' prices and the car mark is 'Toyota Avensis'"
   ]
  },
  {
   "cell_type": "code",
   "execution_count": 4,
   "metadata": {
    "collapsed": true
   },
   "outputs": [],
   "source": [
    "link1 = 'https://www.auto24.ee/kasutatud/nimekiri.php?bn=2&a=100&aj=&b=13&bw=15&ae=2&af=200&ag=0&ag=1&otsi=otsi'\n",
    "link2 = 'https://www.auto24.ee/kasutatud/nimekiri.php?bn=2&a=100&b=13&bw=15&ae=2&af=200&ag=1&otsi=otsi&ak=200'\n",
    "mark = 'Toyota Avensis'"
   ]
  },
  {
   "cell_type": "markdown",
   "metadata": {},
   "source": [
    "We download the first page of used car prices from auto24, about \n",
    "Toyota Avensis"
   ]
  },
  {
   "cell_type": "code",
   "execution_count": 4,
   "metadata": {},
   "outputs": [
    {
     "name": "stdout",
     "output_type": "stream",
     "text": [
      "201 Downloaded 201 lines of car data for Toyota Avensis\n"
     ]
    },
    {
     "data": {
      "text/html": [
       "<div>\n",
       "<style scoped>\n",
       "    .dataframe tbody tr th:only-of-type {\n",
       "        vertical-align: middle;\n",
       "    }\n",
       "\n",
       "    .dataframe tbody tr th {\n",
       "        vertical-align: top;\n",
       "    }\n",
       "\n",
       "    .dataframe thead th {\n",
       "        text-align: right;\n",
       "    }\n",
       "</style>\n",
       "<table border=\"1\" class=\"dataframe\">\n",
       "  <thead>\n",
       "    <tr style=\"text-align: right;\">\n",
       "      <th></th>\n",
       "      <th>Engine</th>\n",
       "      <th>kW</th>\n",
       "      <th>KM</th>\n",
       "      <th>Type</th>\n",
       "      <th>Drive</th>\n",
       "      <th>Year</th>\n",
       "      <th>Fuel</th>\n",
       "      <th>Transmission</th>\n",
       "      <th>Price</th>\n",
       "    </tr>\n",
       "    <tr>\n",
       "      <th>No</th>\n",
       "      <th></th>\n",
       "      <th></th>\n",
       "      <th></th>\n",
       "      <th></th>\n",
       "      <th></th>\n",
       "      <th></th>\n",
       "      <th></th>\n",
       "      <th></th>\n",
       "      <th></th>\n",
       "    </tr>\n",
       "  </thead>\n",
       "  <tbody>\n",
       "    <tr>\n",
       "      <th>0</th>\n",
       "      <td>1.6</td>\n",
       "      <td>81</td>\n",
       "      <td>219000</td>\n",
       "      <td>luukpära</td>\n",
       "      <td>esivedu</td>\n",
       "      <td>1999</td>\n",
       "      <td>B</td>\n",
       "      <td>M</td>\n",
       "      <td>699</td>\n",
       "    </tr>\n",
       "    <tr>\n",
       "      <th>1</th>\n",
       "      <td>1.8</td>\n",
       "      <td>81</td>\n",
       "      <td>260000</td>\n",
       "      <td>sedaan</td>\n",
       "      <td>esivedu</td>\n",
       "      <td>1999</td>\n",
       "      <td>B</td>\n",
       "      <td>M</td>\n",
       "      <td>990</td>\n",
       "    </tr>\n",
       "    <tr>\n",
       "      <th>2</th>\n",
       "      <td>2.0</td>\n",
       "      <td>85</td>\n",
       "      <td>0</td>\n",
       "      <td>universaal</td>\n",
       "      <td>esivedu</td>\n",
       "      <td>2003</td>\n",
       "      <td>D</td>\n",
       "      <td>M</td>\n",
       "      <td>1050</td>\n",
       "    </tr>\n",
       "    <tr>\n",
       "      <th>3</th>\n",
       "      <td>1.6</td>\n",
       "      <td>81</td>\n",
       "      <td>149000</td>\n",
       "      <td>sedaan</td>\n",
       "      <td>esivedu</td>\n",
       "      <td>2002</td>\n",
       "      <td>B</td>\n",
       "      <td>M</td>\n",
       "      <td>1199</td>\n",
       "    </tr>\n",
       "    <tr>\n",
       "      <th>4</th>\n",
       "      <td>2.2</td>\n",
       "      <td>130</td>\n",
       "      <td>0</td>\n",
       "      <td>universaal</td>\n",
       "      <td>esivedu</td>\n",
       "      <td>2005</td>\n",
       "      <td>0</td>\n",
       "      <td>0</td>\n",
       "      <td>1400</td>\n",
       "    </tr>\n",
       "  </tbody>\n",
       "</table>\n",
       "</div>"
      ],
      "text/plain": [
       "    Engine   kW      KM        Type    Drive  Year Fuel Transmission  Price\n",
       "No                                                                         \n",
       "0      1.6   81  219000    luukpära  esivedu  1999    B            M    699\n",
       "1      1.8   81  260000      sedaan  esivedu  1999    B            M    990\n",
       "2      2.0   85       0  universaal  esivedu  2003    D            M   1050\n",
       "3      1.6   81  149000      sedaan  esivedu  2002    B            M   1199\n",
       "4      2.2  130       0  universaal  esivedu  2005    0            0   1400"
      ]
     },
     "execution_count": 4,
     "metadata": {},
     "output_type": "execute_result"
    }
   ],
   "source": [
    "contents = requests.get(link1)\n",
    "\n",
    "first_page = get_cars(mark, contents)\n",
    "first_page.head()"
   ]
  },
  {
   "cell_type": "markdown",
   "metadata": {},
   "source": [
    "We download the second page of used car prices from auto24, about \n",
    "Toyota Avensis"
   ]
  },
  {
   "cell_type": "code",
   "execution_count": 5,
   "metadata": {},
   "outputs": [
    {
     "name": "stdout",
     "output_type": "stream",
     "text": [
      "89 Downloaded 89 lines of car data for Toyota Avensis\n"
     ]
    },
    {
     "data": {
      "text/html": [
       "<div>\n",
       "<style scoped>\n",
       "    .dataframe tbody tr th:only-of-type {\n",
       "        vertical-align: middle;\n",
       "    }\n",
       "\n",
       "    .dataframe tbody tr th {\n",
       "        vertical-align: top;\n",
       "    }\n",
       "\n",
       "    .dataframe thead th {\n",
       "        text-align: right;\n",
       "    }\n",
       "</style>\n",
       "<table border=\"1\" class=\"dataframe\">\n",
       "  <thead>\n",
       "    <tr style=\"text-align: right;\">\n",
       "      <th></th>\n",
       "      <th>Engine</th>\n",
       "      <th>kW</th>\n",
       "      <th>KM</th>\n",
       "      <th>Type</th>\n",
       "      <th>Drive</th>\n",
       "      <th>Year</th>\n",
       "      <th>Fuel</th>\n",
       "      <th>Transmission</th>\n",
       "      <th>Price</th>\n",
       "    </tr>\n",
       "    <tr>\n",
       "      <th>No</th>\n",
       "      <th></th>\n",
       "      <th></th>\n",
       "      <th></th>\n",
       "      <th></th>\n",
       "      <th></th>\n",
       "      <th></th>\n",
       "      <th></th>\n",
       "      <th></th>\n",
       "      <th></th>\n",
       "    </tr>\n",
       "  </thead>\n",
       "  <tbody>\n",
       "    <tr>\n",
       "      <th>0</th>\n",
       "      <td>1.8</td>\n",
       "      <td>108</td>\n",
       "      <td>173940</td>\n",
       "      <td>sedaan</td>\n",
       "      <td>esivedu</td>\n",
       "      <td>2014</td>\n",
       "      <td>B</td>\n",
       "      <td>A</td>\n",
       "      <td>9950</td>\n",
       "    </tr>\n",
       "    <tr>\n",
       "      <th>1</th>\n",
       "      <td>1.6</td>\n",
       "      <td>82</td>\n",
       "      <td>120000</td>\n",
       "      <td>universaal</td>\n",
       "      <td>esivedu</td>\n",
       "      <td>2015</td>\n",
       "      <td>D</td>\n",
       "      <td>M</td>\n",
       "      <td>9950</td>\n",
       "    </tr>\n",
       "    <tr>\n",
       "      <th>2</th>\n",
       "      <td>1.8</td>\n",
       "      <td>108</td>\n",
       "      <td>0</td>\n",
       "      <td>0</td>\n",
       "      <td>0</td>\n",
       "      <td>2013</td>\n",
       "      <td>B</td>\n",
       "      <td>A</td>\n",
       "      <td>9990</td>\n",
       "    </tr>\n",
       "    <tr>\n",
       "      <th>3</th>\n",
       "      <td>1.8</td>\n",
       "      <td>108</td>\n",
       "      <td>123490</td>\n",
       "      <td>sedaan</td>\n",
       "      <td>esivedu</td>\n",
       "      <td>2012</td>\n",
       "      <td>B</td>\n",
       "      <td>A</td>\n",
       "      <td>9990</td>\n",
       "    </tr>\n",
       "    <tr>\n",
       "      <th>4</th>\n",
       "      <td>2.0</td>\n",
       "      <td>91</td>\n",
       "      <td>230300</td>\n",
       "      <td>universaal</td>\n",
       "      <td>esivedu</td>\n",
       "      <td>2014</td>\n",
       "      <td>D</td>\n",
       "      <td>M</td>\n",
       "      <td>9990</td>\n",
       "    </tr>\n",
       "  </tbody>\n",
       "</table>\n",
       "</div>"
      ],
      "text/plain": [
       "    Engine   kW      KM        Type    Drive  Year Fuel Transmission  Price\n",
       "No                                                                         \n",
       "0      1.8  108  173940      sedaan  esivedu  2014    B            A   9950\n",
       "1      1.6   82  120000  universaal  esivedu  2015    D            M   9950\n",
       "2      1.8  108       0           0        0  2013    B            A   9990\n",
       "3      1.8  108  123490      sedaan  esivedu  2012    B            A   9990\n",
       "4      2.0   91  230300  universaal  esivedu  2014    D            M   9990"
      ]
     },
     "execution_count": 5,
     "metadata": {},
     "output_type": "execute_result"
    }
   ],
   "source": [
    "contents = requests.get(link2)\n",
    "\n",
    "second_page = get_cars(mark, contents)\n",
    "second_page.head()"
   ]
  },
  {
   "cell_type": "markdown",
   "metadata": {},
   "source": [
    "We join both pages into one DataFrame"
   ]
  },
  {
   "cell_type": "code",
   "execution_count": 6,
   "metadata": {},
   "outputs": [
    {
     "name": "stdout",
     "output_type": "stream",
     "text": [
      "Scraped in all 289 car price data lines for Toyota Avensis\n"
     ]
    }
   ],
   "source": [
    "df = first_page.append(second_page)\n",
    "print('Scraped in all', len(df), 'car price data lines for', mark)"
   ]
  },
  {
   "cell_type": "markdown",
   "metadata": {},
   "source": [
    "Now showing some statistics about the DataFrame (basically tabular data)"
   ]
  },
  {
   "cell_type": "code",
   "execution_count": 7,
   "metadata": {},
   "outputs": [
    {
     "name": "stdout",
     "output_type": "stream",
     "text": [
      "<class 'pandas.core.frame.DataFrame'>\n",
      "Int64Index: 289 entries, 0 to 88\n",
      "Data columns (total 9 columns):\n",
      "Engine          289 non-null float64\n",
      "kW              289 non-null int32\n",
      "KM              289 non-null int32\n",
      "Type            289 non-null object\n",
      "Drive           289 non-null object\n",
      "Year            289 non-null int32\n",
      "Fuel            289 non-null object\n",
      "Transmission    289 non-null object\n",
      "Price           289 non-null int32\n",
      "dtypes: float64(1), int32(4), object(4)\n",
      "memory usage: 18.1+ KB\n"
     ]
    }
   ],
   "source": [
    "df.info()"
   ]
  },
  {
   "cell_type": "code",
   "execution_count": 8,
   "metadata": {},
   "outputs": [
    {
     "data": {
      "text/html": [
       "<div>\n",
       "<style scoped>\n",
       "    .dataframe tbody tr th:only-of-type {\n",
       "        vertical-align: middle;\n",
       "    }\n",
       "\n",
       "    .dataframe tbody tr th {\n",
       "        vertical-align: top;\n",
       "    }\n",
       "\n",
       "    .dataframe thead th {\n",
       "        text-align: right;\n",
       "    }\n",
       "</style>\n",
       "<table border=\"1\" class=\"dataframe\">\n",
       "  <thead>\n",
       "    <tr style=\"text-align: right;\">\n",
       "      <th></th>\n",
       "      <th>Engine</th>\n",
       "      <th>kW</th>\n",
       "      <th>KM</th>\n",
       "      <th>Year</th>\n",
       "      <th>Price</th>\n",
       "    </tr>\n",
       "  </thead>\n",
       "  <tbody>\n",
       "    <tr>\n",
       "      <th>count</th>\n",
       "      <td>289.000000</td>\n",
       "      <td>289.000000</td>\n",
       "      <td>289.000000</td>\n",
       "      <td>289.000000</td>\n",
       "      <td>289.000000</td>\n",
       "    </tr>\n",
       "    <tr>\n",
       "      <th>mean</th>\n",
       "      <td>9.958478</td>\n",
       "      <td>111.692042</td>\n",
       "      <td>161642.993080</td>\n",
       "      <td>2010.553633</td>\n",
       "      <td>8263.913495</td>\n",
       "    </tr>\n",
       "    <tr>\n",
       "      <th>std</th>\n",
       "      <td>118.474770</td>\n",
       "      <td>111.329273</td>\n",
       "      <td>99944.602926</td>\n",
       "      <td>4.300928</td>\n",
       "      <td>5304.894292</td>\n",
       "    </tr>\n",
       "    <tr>\n",
       "      <th>min</th>\n",
       "      <td>1.600000</td>\n",
       "      <td>81.000000</td>\n",
       "      <td>0.000000</td>\n",
       "      <td>1999.000000</td>\n",
       "      <td>0.000000</td>\n",
       "    </tr>\n",
       "    <tr>\n",
       "      <th>25%</th>\n",
       "      <td>1.800000</td>\n",
       "      <td>95.000000</td>\n",
       "      <td>87000.000000</td>\n",
       "      <td>2007.000000</td>\n",
       "      <td>3800.000000</td>\n",
       "    </tr>\n",
       "    <tr>\n",
       "      <th>50%</th>\n",
       "      <td>2.000000</td>\n",
       "      <td>108.000000</td>\n",
       "      <td>173000.000000</td>\n",
       "      <td>2011.000000</td>\n",
       "      <td>7250.000000</td>\n",
       "    </tr>\n",
       "    <tr>\n",
       "      <th>75%</th>\n",
       "      <td>2.200000</td>\n",
       "      <td>110.000000</td>\n",
       "      <td>237800.000000</td>\n",
       "      <td>2014.000000</td>\n",
       "      <td>10900.000000</td>\n",
       "    </tr>\n",
       "    <tr>\n",
       "      <th>max</th>\n",
       "      <td>2013.000000</td>\n",
       "      <td>1987.000000</td>\n",
       "      <td>400810.000000</td>\n",
       "      <td>2019.000000</td>\n",
       "      <td>23990.000000</td>\n",
       "    </tr>\n",
       "  </tbody>\n",
       "</table>\n",
       "</div>"
      ],
      "text/plain": [
       "            Engine           kW             KM         Year         Price\n",
       "count   289.000000   289.000000     289.000000   289.000000    289.000000\n",
       "mean      9.958478   111.692042  161642.993080  2010.553633   8263.913495\n",
       "std     118.474770   111.329273   99944.602926     4.300928   5304.894292\n",
       "min       1.600000    81.000000       0.000000  1999.000000      0.000000\n",
       "25%       1.800000    95.000000   87000.000000  2007.000000   3800.000000\n",
       "50%       2.000000   108.000000  173000.000000  2011.000000   7250.000000\n",
       "75%       2.200000   110.000000  237800.000000  2014.000000  10900.000000\n",
       "max    2013.000000  1987.000000  400810.000000  2019.000000  23990.000000"
      ]
     },
     "execution_count": 8,
     "metadata": {},
     "output_type": "execute_result"
    }
   ],
   "source": [
    "df.describe()"
   ]
  },
  {
   "cell_type": "markdown",
   "metadata": {},
   "source": [
    "From the table above an average car has travelled 163K kilometres and costs 8K EUR. This is simple, but can be useful statistics!"
   ]
  },
  {
   "cell_type": "markdown",
   "metadata": {},
   "source": [
    "Values in \"Transmission\" column"
   ]
  },
  {
   "cell_type": "code",
   "execution_count": 9,
   "metadata": {},
   "outputs": [
    {
     "data": {
      "text/plain": [
       "M    150\n",
       "A    135\n",
       "0      4\n",
       "Name: Transmission, dtype: int64"
      ]
     },
     "execution_count": 9,
     "metadata": {},
     "output_type": "execute_result"
    }
   ],
   "source": [
    "df['Transmission'].value_counts()"
   ]
  },
  {
   "cell_type": "markdown",
   "metadata": {},
   "source": [
    "A lot of cars have automatic gear box ('transmission' here is clearly wrong word)"
   ]
  },
  {
   "cell_type": "markdown",
   "metadata": {},
   "source": [
    "Transfer data about kilometrages into ranges for easier visualization"
   ]
  },
  {
   "cell_type": "code",
   "execution_count": 10,
   "metadata": {},
   "outputs": [
    {
     "name": "stdout",
     "output_type": "stream",
     "text": [
      "I split mileage into ranges like 0 - 50K, 50K - 100K .... now lets see statistics\n"
     ]
    },
    {
     "data": {
      "text/plain": [
       "200000    68\n",
       "50000     58\n",
       "500000    57\n",
       "250000    51\n",
       "150000    37\n",
       "100000    18\n",
       "Name: KM_Ranges, dtype: int64"
      ]
     },
     "execution_count": 10,
     "metadata": {},
     "output_type": "execute_result"
    }
   ],
   "source": [
    "d = {range(0,50000): 50000,\n",
    "    range(50001,100000): 100000, \n",
    "     range(100001,150000): 150000,\n",
    "     range(150001,200000): 200000,\n",
    "    range(200001,250000): 250000,\n",
    "     range(250000,500000): 500000}\n",
    "\n",
    "df['KM_Ranges'] = df['KM'].apply(lambda x: next((v for k, v in d.items() if x in k), 0))\n",
    "print('I split mileage into ranges like 0 - 50K, 50K - 100K .... now lets see statistics')\n",
    "df['KM_Ranges'].value_counts()"
   ]
  },
  {
   "cell_type": "code",
   "execution_count": 11,
   "metadata": {},
   "outputs": [
    {
     "name": "stdout",
     "output_type": "stream",
     "text": [
      "This is how mileage is distributed. Most frequent cars are 150K - 200K mileage\n"
     ]
    },
    {
     "data": {
      "text/plain": [
       "<matplotlib.axes._subplots.AxesSubplot at 0x1b8f4039898>"
      ]
     },
     "execution_count": 11,
     "metadata": {},
     "output_type": "execute_result"
    },
    {
     "data": {
      "image/png": "[encoded data removed]",
      "text/plain": [
       "<Figure size 432x288 with 1 Axes>"
      ]
     },
     "metadata": {
      "needs_background": "light"
     },
     "output_type": "display_data"
    }
   ],
   "source": [
    "%matplotlib inline\n",
    "print('This is how mileage is distributed. Most frequent cars are 150K - 200K mileage')\n",
    "df['KM_Ranges'].value_counts().plot.bar()"
   ]
  },
  {
   "cell_type": "markdown",
   "metadata": {},
   "source": [
    "Next will slice the DataFrame into smaller tables based on mileage ranges and visualize price - mileage stats"
   ]
  },
  {
   "cell_type": "code",
   "execution_count": 12,
   "metadata": {},
   "outputs": [
    {
     "name": "stdout",
     "output_type": "stream",
     "text": [
      "For Kilometrage of 50000 average price is 14272 and average year is 2014\n"
     ]
    },
    {
     "data": {
      "image/png": "[encoded data removed]",
      "text/plain": [
       "<Figure size 432x288 with 1 Axes>"
      ]
     },
     "metadata": {
      "needs_background": "light"
     },
     "output_type": "display_data"
    },
    {
     "name": "stdout",
     "output_type": "stream",
     "text": [
      "For Kilometrage of 100000 average price is 13487 and average year is 2014\n"
     ]
    },
    {
     "data": {
      "image/png": "[encoded data removed]",
      "text/plain": [
       "<Figure size 432x288 with 1 Axes>"
      ]
     },
     "metadata": {
      "needs_background": "light"
     },
     "output_type": "display_data"
    },
    {
     "name": "stdout",
     "output_type": "stream",
     "text": [
      "For Kilometrage of 150000 average price is 8804 and average year is 2011\n"
     ]
    },
    {
     "data": {
      "image/png": "[encoded data removed]",
      "text/plain": [
       "<Figure size 432x288 with 1 Axes>"
      ]
     },
     "metadata": {
      "needs_background": "light"
     },
     "output_type": "display_data"
    },
    {
     "name": "stdout",
     "output_type": "stream",
     "text": [
      "For Kilometrage of 200000 average price is 7340 and average year is 2010\n"
     ]
    },
    {
     "data": {
      "image/png": "[encoded data removed]",
      "text/plain": [
       "<Figure size 432x288 with 1 Axes>"
      ]
     },
     "metadata": {
      "needs_background": "light"
     },
     "output_type": "display_data"
    },
    {
     "name": "stdout",
     "output_type": "stream",
     "text": [
      "For Kilometrage of 250000 average price is 5634 and average year is 2008\n"
     ]
    },
    {
     "data": {
      "image/png": "[encoded data removed]",
      "text/plain": [
       "<Figure size 432x288 with 1 Axes>"
      ]
     },
     "metadata": {
      "needs_background": "light"
     },
     "output_type": "display_data"
    },
    {
     "name": "stdout",
     "output_type": "stream",
     "text": [
      "For Kilometrage of 500000 average price is 3603 and average year is 2006\n"
     ]
    },
    {
     "data": {
      "image/png": "[encoded data removed]",
      "text/plain": [
       "<Figure size 432x288 with 1 Axes>"
      ]
     },
     "metadata": {
      "needs_background": "light"
     },
     "output_type": "display_data"
    }
   ],
   "source": [
    "for km_range in sorted(list(df['KM_Ranges'].unique())):\n",
    "    \n",
    "    price_range = df[df['KM_Ranges'] == km_range]\n",
    "    print('For Kilometrage of', km_range, 'average price is', \n",
    "          int(price_range['Price'].mean()),'and average year is',\n",
    "          int(price_range['Year'].mean()))\n",
    "    price_range['Year'].value_counts().iloc[0:10].plot.bar()\n",
    "    plt.show()"
   ]
  },
  {
   "cell_type": "markdown",
   "metadata": {},
   "source": [
    "There is also built-in function for creating ranges"
   ]
  },
  {
   "cell_type": "code",
   "execution_count": 13,
   "metadata": {},
   "outputs": [
    {
     "data": {
      "text/plain": [
       "Interval(-23.99, 959.6, closed='right')"
      ]
     },
     "execution_count": 13,
     "metadata": {},
     "output_type": "execute_result"
    }
   ],
   "source": [
    "df['Price_range'] = pd.cut(df['Price'], 25)\n",
    "\n",
    "sorted(list(df['Price_range'].unique()))[0]"
   ]
  },
  {
   "cell_type": "markdown",
   "metadata": {},
   "source": [
    "The next is similar printout of graph as before, the price ranges are automatically selected"
   ]
  },
  {
   "cell_type": "code",
   "execution_count": 14,
   "metadata": {},
   "outputs": [
    {
     "name": "stdout",
     "output_type": "stream",
     "text": [
      "For Kilometrage of 50000 average price is 14272 and average year is 2014\n"
     ]
    },
    {
     "data": {
      "image/png": "[encoded data removed]",
      "text/plain": [
       "<Figure size 432x288 with 1 Axes>"
      ]
     },
     "metadata": {
      "needs_background": "light"
     },
     "output_type": "display_data"
    },
    {
     "name": "stdout",
     "output_type": "stream",
     "text": [
      "For Kilometrage of 100000 average price is 13487 and average year is 2014\n"
     ]
    },
    {
     "data": {
      "image/png": "[encoded data removed]",
      "text/plain": [
       "<Figure size 432x288 with 1 Axes>"
      ]
     },
     "metadata": {
      "needs_background": "light"
     },
     "output_type": "display_data"
    },
    {
     "name": "stdout",
     "output_type": "stream",
     "text": [
      "For Kilometrage of 150000 average price is 8804 and average year is 2011\n"
     ]
    },
    {
     "data": {
      "image/png": "[encoded data removed]",
      "text/plain": [
       "<Figure size 432x288 with 1 Axes>"
      ]
     },
     "metadata": {
      "needs_background": "light"
     },
     "output_type": "display_data"
    },
    {
     "name": "stdout",
     "output_type": "stream",
     "text": [
      "For Kilometrage of 200000 average price is 7340 and average year is 2010\n"
     ]
    },
    {
     "data": {
      "image/png": "[encoded data removed]",
      "text/plain": [
       "<Figure size 432x288 with 1 Axes>"
      ]
     },
     "metadata": {
      "needs_background": "light"
     },
     "output_type": "display_data"
    },
    {
     "name": "stdout",
     "output_type": "stream",
     "text": [
      "For Kilometrage of 250000 average price is 5634 and average year is 2008\n"
     ]
    },
    {
     "data": {
      "image/png": "[encoded data removed]",
      "text/plain": [
       "<Figure size 432x288 with 1 Axes>"
      ]
     },
     "metadata": {
      "needs_background": "light"
     },
     "output_type": "display_data"
    },
    {
     "name": "stdout",
     "output_type": "stream",
     "text": [
      "For Kilometrage of 500000 average price is 3603 and average year is 2006\n"
     ]
    },
    {
     "data": {
      "image/png": "[encoded data removed]",
      "text/plain": [
       "<Figure size 432x288 with 1 Axes>"
      ]
     },
     "metadata": {
      "needs_background": "light"
     },
     "output_type": "display_data"
    }
   ],
   "source": [
    "for km_range in sorted(list(df['KM_Ranges'].unique())):\n",
    "    \n",
    "    price_range = df[df['KM_Ranges'] == km_range]\n",
    "    print('For Kilometrage of', km_range, 'average price is', \n",
    "          int(price_range['Price'].mean()),'and average year is',\n",
    "          int(price_range['Year'].mean()))\n",
    "    price_range['Price_range'].value_counts().iloc[0:10].plot.bar()\n",
    "    plt.show()"
   ]
  },
  {
   "cell_type": "markdown",
   "metadata": {},
   "source": [
    "The graphs above with 'automatic' ranges have horrible looking X axis!"
   ]
  },
  {
   "cell_type": "markdown",
   "metadata": {},
   "source": [
    "<h1><font color='blue'>\n",
    "Now lets do automatic market price estimator based on ML!</font></h1>\n",
    "\n",
    "Because we have the data on used cars' market, we could start predicting the prices for cars, which are not on the market yet, to know how much would they cost if they were put to market. To do this, we need a model, capable of this. In particular case we can try ML (machine learning) algorithms, which have self-learning capabilities.\n",
    "\n",
    "Before doing that we should check that the market data - which these algorithms will use to learn - is understood by them. As rule, they do not understand text data, which must be turned into digital (numeric) data.\n",
    "\n",
    "Let's review our DataFrame and look at the table. We have DataFrame loking like this"
   ]
  },
  {
   "cell_type": "code",
   "execution_count": 16,
   "metadata": {},
   "outputs": [
    {
     "data": {
      "text/html": [
       "<div>\n",
       "<style scoped>\n",
       "    .dataframe tbody tr th:only-of-type {\n",
       "        vertical-align: middle;\n",
       "    }\n",
       "\n",
       "    .dataframe tbody tr th {\n",
       "        vertical-align: top;\n",
       "    }\n",
       "\n",
       "    .dataframe thead th {\n",
       "        text-align: right;\n",
       "    }\n",
       "</style>\n",
       "<table border=\"1\" class=\"dataframe\">\n",
       "  <thead>\n",
       "    <tr style=\"text-align: right;\">\n",
       "      <th></th>\n",
       "      <th>Engine</th>\n",
       "      <th>kW</th>\n",
       "      <th>KM</th>\n",
       "      <th>Type</th>\n",
       "      <th>Drive</th>\n",
       "      <th>Year</th>\n",
       "      <th>Fuel</th>\n",
       "      <th>Transmission</th>\n",
       "      <th>Price</th>\n",
       "      <th>KM_Ranges</th>\n",
       "      <th>Price_range</th>\n",
       "    </tr>\n",
       "    <tr>\n",
       "      <th>No</th>\n",
       "      <th></th>\n",
       "      <th></th>\n",
       "      <th></th>\n",
       "      <th></th>\n",
       "      <th></th>\n",
       "      <th></th>\n",
       "      <th></th>\n",
       "      <th></th>\n",
       "      <th></th>\n",
       "      <th></th>\n",
       "      <th></th>\n",
       "    </tr>\n",
       "  </thead>\n",
       "  <tbody>\n",
       "    <tr>\n",
       "      <th>0</th>\n",
       "      <td>1.6</td>\n",
       "      <td>81</td>\n",
       "      <td>219000</td>\n",
       "      <td>luukpära</td>\n",
       "      <td>esivedu</td>\n",
       "      <td>1999</td>\n",
       "      <td>B</td>\n",
       "      <td>M</td>\n",
       "      <td>699</td>\n",
       "      <td>250000</td>\n",
       "      <td>(-23.99, 959.6]</td>\n",
       "    </tr>\n",
       "    <tr>\n",
       "      <th>1</th>\n",
       "      <td>1.8</td>\n",
       "      <td>81</td>\n",
       "      <td>260000</td>\n",
       "      <td>sedaan</td>\n",
       "      <td>esivedu</td>\n",
       "      <td>1999</td>\n",
       "      <td>B</td>\n",
       "      <td>M</td>\n",
       "      <td>990</td>\n",
       "      <td>500000</td>\n",
       "      <td>(959.6, 1919.2]</td>\n",
       "    </tr>\n",
       "    <tr>\n",
       "      <th>2</th>\n",
       "      <td>2.0</td>\n",
       "      <td>85</td>\n",
       "      <td>0</td>\n",
       "      <td>universaal</td>\n",
       "      <td>esivedu</td>\n",
       "      <td>2003</td>\n",
       "      <td>D</td>\n",
       "      <td>M</td>\n",
       "      <td>1050</td>\n",
       "      <td>50000</td>\n",
       "      <td>(959.6, 1919.2]</td>\n",
       "    </tr>\n",
       "    <tr>\n",
       "      <th>3</th>\n",
       "      <td>1.6</td>\n",
       "      <td>81</td>\n",
       "      <td>149000</td>\n",
       "      <td>sedaan</td>\n",
       "      <td>esivedu</td>\n",
       "      <td>2002</td>\n",
       "      <td>B</td>\n",
       "      <td>M</td>\n",
       "      <td>1199</td>\n",
       "      <td>150000</td>\n",
       "      <td>(959.6, 1919.2]</td>\n",
       "    </tr>\n",
       "    <tr>\n",
       "      <th>4</th>\n",
       "      <td>2.2</td>\n",
       "      <td>130</td>\n",
       "      <td>0</td>\n",
       "      <td>universaal</td>\n",
       "      <td>esivedu</td>\n",
       "      <td>2005</td>\n",
       "      <td>0</td>\n",
       "      <td>0</td>\n",
       "      <td>1400</td>\n",
       "      <td>50000</td>\n",
       "      <td>(959.6, 1919.2]</td>\n",
       "    </tr>\n",
       "  </tbody>\n",
       "</table>\n",
       "</div>"
      ],
      "text/plain": [
       "    Engine   kW      KM        Type    Drive  Year Fuel Transmission  Price  \\\n",
       "No                                                                            \n",
       "0      1.6   81  219000    luukpära  esivedu  1999    B            M    699   \n",
       "1      1.8   81  260000      sedaan  esivedu  1999    B            M    990   \n",
       "2      2.0   85       0  universaal  esivedu  2003    D            M   1050   \n",
       "3      1.6   81  149000      sedaan  esivedu  2002    B            M   1199   \n",
       "4      2.2  130       0  universaal  esivedu  2005    0            0   1400   \n",
       "\n",
       "    KM_Ranges      Price_range  \n",
       "No                              \n",
       "0      250000  (-23.99, 959.6]  \n",
       "1      500000  (959.6, 1919.2]  \n",
       "2       50000  (959.6, 1919.2]  \n",
       "3      150000  (959.6, 1919.2]  \n",
       "4       50000  (959.6, 1919.2]  "
      ]
     },
     "execution_count": 16,
     "metadata": {},
     "output_type": "execute_result"
    }
   ],
   "source": [
    "df.head()"
   ]
  },
  {
   "cell_type": "markdown",
   "metadata": {},
   "source": [
    "# Prepare DataFrame for ML\n",
    "\n",
    "First, download the cars data again from the internet (if haven't done yet). This is the same DataFrame as above, but without added columns \"KM_Ranges\", \"Price_range\".\n",
    "\n",
    "Second, let's see in which columns there we have \"0\" values. In particular case this is missing data."
   ]
  },
  {
   "cell_type": "code",
   "execution_count": 5,
   "metadata": {},
   "outputs": [
    {
     "name": "stdout",
     "output_type": "stream",
     "text": [
      "201 Downloaded 201 lines of car data for Toyota Avensis\n",
      "94 Downloaded 94 lines of car data for Toyota Avensis\n"
     ]
    }
   ],
   "source": [
    "contents1 = requests.get(link1)\n",
    "contents2 = requests.get(link2)\n",
    "df1 = get_cars(mark, contents1)\n",
    "df2 = get_cars(mark, contents2)\n",
    "df = df1.append(df2)"
   ]
  },
  {
   "cell_type": "code",
   "execution_count": 6,
   "metadata": {},
   "outputs": [
    {
     "name": "stdout",
     "output_type": "stream",
     "text": [
      "Now have DataFrame with data on Toyota Avensis of 294 lines\n"
     ]
    }
   ],
   "source": [
    "print('Now have DataFrame with data on',mark,'of',str(len(df)),'lines')"
   ]
  },
  {
   "cell_type": "code",
   "execution_count": 7,
   "metadata": {},
   "outputs": [
    {
     "name": "stdout",
     "output_type": "stream",
     "text": [
      "This colum has zero int values: \t KM\n",
      "This colum has zero int values: \t Type\n",
      "This colum has zero int values: \t Drive\n",
      "This colum has zero int values: \t Fuel\n",
      "This colum has zero int values: \t Transmission\n",
      "This colum has zero int values: \t Price\n"
     ]
    }
   ],
   "source": [
    "for column in df.columns:\n",
    "    uniques = df[column].unique()\n",
    "    if '0' in uniques:\n",
    "        print('This colum has zero string values:','\\t',column)\n",
    "    if 0 in uniques:\n",
    "        print('This colum has zero int values:','\\t',column)"
   ]
  },
  {
   "cell_type": "markdown",
   "metadata": {},
   "source": [
    "What is the case with Price == 0?"
   ]
  },
  {
   "cell_type": "code",
   "execution_count": 8,
   "metadata": {},
   "outputs": [
    {
     "data": {
      "text/html": [
       "<div>\n",
       "<style>\n",
       "    .dataframe thead tr:only-child th {\n",
       "        text-align: right;\n",
       "    }\n",
       "\n",
       "    .dataframe thead th {\n",
       "        text-align: left;\n",
       "    }\n",
       "\n",
       "    .dataframe tbody tr th {\n",
       "        vertical-align: top;\n",
       "    }\n",
       "</style>\n",
       "<table border=\"1\" class=\"dataframe\">\n",
       "  <thead>\n",
       "    <tr style=\"text-align: right;\">\n",
       "      <th></th>\n",
       "      <th>Engine</th>\n",
       "      <th>kW</th>\n",
       "      <th>KM</th>\n",
       "      <th>Type</th>\n",
       "      <th>Drive</th>\n",
       "      <th>Year</th>\n",
       "      <th>Fuel</th>\n",
       "      <th>Transmission</th>\n",
       "      <th>Price</th>\n",
       "    </tr>\n",
       "    <tr>\n",
       "      <th>No</th>\n",
       "      <th></th>\n",
       "      <th></th>\n",
       "      <th></th>\n",
       "      <th></th>\n",
       "      <th></th>\n",
       "      <th></th>\n",
       "      <th></th>\n",
       "      <th></th>\n",
       "      <th></th>\n",
       "    </tr>\n",
       "  </thead>\n",
       "  <tbody>\n",
       "    <tr>\n",
       "      <th>93</th>\n",
       "      <td>1.8</td>\n",
       "      <td>108</td>\n",
       "      <td>0</td>\n",
       "      <td>sedaan</td>\n",
       "      <td>esivedu</td>\n",
       "      <td>2015</td>\n",
       "      <td>B</td>\n",
       "      <td>A</td>\n",
       "      <td>0</td>\n",
       "    </tr>\n",
       "  </tbody>\n",
       "</table>\n",
       "</div>"
      ],
      "text/plain": [
       "    Engine   kW  KM    Type    Drive  Year Fuel Transmission  Price\n",
       "No                                                                 \n",
       "93     1.8  108   0  sedaan  esivedu  2015    B            A      0"
      ]
     },
     "execution_count": 8,
     "metadata": {},
     "output_type": "execute_result"
    }
   ],
   "source": [
    "df[df['Price'] == 0]"
   ]
  },
  {
   "cell_type": "markdown",
   "metadata": {},
   "source": [
    "A singe row with Price == 0 will be removed"
   ]
  },
  {
   "cell_type": "code",
   "execution_count": 9,
   "metadata": {},
   "outputs": [
    {
     "name": "stdout",
     "output_type": "stream",
     "text": [
      "DataFrame on Toyota Avensis before removal Price == 0 rows has lenght of 294 lines\n",
      "DataFrame on Toyota Avensis after removal Price == 0 rows has lenght of 293 lines\n"
     ]
    }
   ],
   "source": [
    "print('DataFrame on',mark,'before removal Price == 0 rows has lenght of',str(len(df)),'lines')\n",
    "df = df[df['Price'] != 0]\n",
    "print('DataFrame on',mark,'after removal Price == 0 rows has lenght of',str(len(df)),'lines')"
   ]
  },
  {
   "cell_type": "markdown",
   "metadata": {},
   "source": [
    "For columns with \"0\" values identified above we create new columns having binary \"0\" or \"1\" values. They will have \"dummy\" in their names. This way the algorithms will have extra columns to learn."
   ]
  },
  {
   "cell_type": "code",
   "execution_count": 10,
   "metadata": {},
   "outputs": [
    {
     "name": "stdout",
     "output_type": "stream",
     "text": [
      "Column KM has 43 \t\tzero values\n",
      "Column Type has 31 \t\tzero values\n",
      "Column Drive has 32 \t\tzero values\n",
      "Column Fuel has 6 \t\tzero values\n",
      "Column Transmission has 6 \t\tzero values\n",
      "We have transferred zeros in columns into new columns with binary values\n"
     ]
    }
   ],
   "source": [
    "columns = ['KM', 'Type', 'Drive', 'Fuel', 'Transmission']\n",
    "\n",
    "ML_df = df.copy()\n",
    "for column in columns:\n",
    "    new_column = column + '_dummy'\n",
    "    ML_df[new_column] = (df[column] == 0)\n",
    "    print('Column',column,'has', len(ML_df[ML_df[new_column] == True]),'\\t\\tzero values')\n",
    "print('We have transferred zeros in columns into new columns with binary values')"
   ]
  },
  {
   "cell_type": "code",
   "execution_count": 11,
   "metadata": {},
   "outputs": [
    {
     "name": "stdout",
     "output_type": "stream",
     "text": [
      "Example of dummy columns == True\n"
     ]
    },
    {
     "data": {
      "text/html": [
       "<div>\n",
       "<style>\n",
       "    .dataframe thead tr:only-child th {\n",
       "        text-align: right;\n",
       "    }\n",
       "\n",
       "    .dataframe thead th {\n",
       "        text-align: left;\n",
       "    }\n",
       "\n",
       "    .dataframe tbody tr th {\n",
       "        vertical-align: top;\n",
       "    }\n",
       "</style>\n",
       "<table border=\"1\" class=\"dataframe\">\n",
       "  <thead>\n",
       "    <tr style=\"text-align: right;\">\n",
       "      <th></th>\n",
       "      <th>Engine</th>\n",
       "      <th>kW</th>\n",
       "      <th>KM</th>\n",
       "      <th>Type</th>\n",
       "      <th>Drive</th>\n",
       "      <th>Year</th>\n",
       "      <th>Fuel</th>\n",
       "      <th>Transmission</th>\n",
       "      <th>Price</th>\n",
       "      <th>KM_dummy</th>\n",
       "      <th>Type_dummy</th>\n",
       "      <th>Drive_dummy</th>\n",
       "      <th>Fuel_dummy</th>\n",
       "      <th>Transmission_dummy</th>\n",
       "    </tr>\n",
       "    <tr>\n",
       "      <th>No</th>\n",
       "      <th></th>\n",
       "      <th></th>\n",
       "      <th></th>\n",
       "      <th></th>\n",
       "      <th></th>\n",
       "      <th></th>\n",
       "      <th></th>\n",
       "      <th></th>\n",
       "      <th></th>\n",
       "      <th></th>\n",
       "      <th></th>\n",
       "      <th></th>\n",
       "      <th></th>\n",
       "      <th></th>\n",
       "    </tr>\n",
       "  </thead>\n",
       "  <tbody>\n",
       "    <tr>\n",
       "      <th>106</th>\n",
       "      <td>2.2</td>\n",
       "      <td>110</td>\n",
       "      <td>0</td>\n",
       "      <td>0</td>\n",
       "      <td>0</td>\n",
       "      <td>2009</td>\n",
       "      <td>D</td>\n",
       "      <td>M</td>\n",
       "      <td>5300</td>\n",
       "      <td>True</td>\n",
       "      <td>True</td>\n",
       "      <td>True</td>\n",
       "      <td>False</td>\n",
       "      <td>False</td>\n",
       "    </tr>\n",
       "    <tr>\n",
       "      <th>181</th>\n",
       "      <td>2.0</td>\n",
       "      <td>112</td>\n",
       "      <td>0</td>\n",
       "      <td>0</td>\n",
       "      <td>0</td>\n",
       "      <td>2011</td>\n",
       "      <td>B</td>\n",
       "      <td>A</td>\n",
       "      <td>8799</td>\n",
       "      <td>True</td>\n",
       "      <td>True</td>\n",
       "      <td>True</td>\n",
       "      <td>False</td>\n",
       "      <td>False</td>\n",
       "    </tr>\n",
       "  </tbody>\n",
       "</table>\n",
       "</div>"
      ],
      "text/plain": [
       "     Engine   kW  KM Type Drive  Year Fuel Transmission  Price  KM_dummy  \\\n",
       "No                                                                         \n",
       "106     2.2  110   0    0     0  2009    D            M   5300      True   \n",
       "181     2.0  112   0    0     0  2011    B            A   8799      True   \n",
       "\n",
       "     Type_dummy  Drive_dummy  Fuel_dummy  Transmission_dummy  \n",
       "No                                                            \n",
       "106        True         True       False               False  \n",
       "181        True         True       False               False  "
      ]
     },
     "execution_count": 11,
     "metadata": {},
     "output_type": "execute_result"
    }
   ],
   "source": [
    "print('Example of dummy columns == True')\n",
    "ML_df[ML_df['Type'] == 0][0:2]"
   ]
  },
  {
   "cell_type": "markdown",
   "metadata": {},
   "source": [
    "Columns:\n",
    "\n",
    "Engine,\tkW,\tType,\tDrive,\tYear,\tFuel,\tTransmission \n",
    "\n",
    "have text data or data, which is numeric, but does not have meaning as numeric data.\n",
    "\n",
    "These columns will be transferred to simple integer values. So, the earliest year (be it 1999, for example) will become \"1\", the next year after that (2000) will become \"2\" etc"
   ]
  },
  {
   "cell_type": "code",
   "execution_count": 12,
   "metadata": {
    "collapsed": true
   },
   "outputs": [],
   "source": [
    "columns = ['Engine', 'kW', 'Year']\n",
    "mappings = []\n",
    "\n",
    "for column in sorted(list(columns)):\n",
    "\n",
    "    d = {}\n",
    "    i = 1\n",
    "    for value in sorted(list(ML_df[column].unique())):\n",
    "        d[value] = i\n",
    "        i += 1\n",
    "    \n",
    "    mappings.append(d)\n",
    "\n",
    "    ML_df[column] = ML_df[column].map(d)\n",
    "\n",
    "columns = ['Type', 'Drive', 'Fuel', 'Transmission']\n",
    "\n",
    "for column in sorted(list(columns)):\n",
    "\n",
    "    d = {}\n",
    "    i = 1\n",
    "    for value in ML_df[column].unique():\n",
    "        d[value] = i\n",
    "        i += 1\n",
    "    \n",
    "    mappings.append(d)\n",
    "\n",
    "    ML_df[column] = ML_df[column].map(d)"
   ]
  },
  {
   "cell_type": "markdown",
   "metadata": {},
   "source": [
    "Now the DataFrame is prepared and looks like this. The original numeric data left is only KM (one of features) and Price (the target variable)"
   ]
  },
  {
   "cell_type": "code",
   "execution_count": 13,
   "metadata": {},
   "outputs": [
    {
     "data": {
      "text/html": [
       "<div>\n",
       "<style>\n",
       "    .dataframe thead tr:only-child th {\n",
       "        text-align: right;\n",
       "    }\n",
       "\n",
       "    .dataframe thead th {\n",
       "        text-align: left;\n",
       "    }\n",
       "\n",
       "    .dataframe tbody tr th {\n",
       "        vertical-align: top;\n",
       "    }\n",
       "</style>\n",
       "<table border=\"1\" class=\"dataframe\">\n",
       "  <thead>\n",
       "    <tr style=\"text-align: right;\">\n",
       "      <th></th>\n",
       "      <th>Engine</th>\n",
       "      <th>kW</th>\n",
       "      <th>KM</th>\n",
       "      <th>Type</th>\n",
       "      <th>Drive</th>\n",
       "      <th>Year</th>\n",
       "      <th>Fuel</th>\n",
       "      <th>Transmission</th>\n",
       "      <th>Price</th>\n",
       "      <th>KM_dummy</th>\n",
       "      <th>Type_dummy</th>\n",
       "      <th>Drive_dummy</th>\n",
       "      <th>Fuel_dummy</th>\n",
       "      <th>Transmission_dummy</th>\n",
       "    </tr>\n",
       "    <tr>\n",
       "      <th>No</th>\n",
       "      <th></th>\n",
       "      <th></th>\n",
       "      <th></th>\n",
       "      <th></th>\n",
       "      <th></th>\n",
       "      <th></th>\n",
       "      <th></th>\n",
       "      <th></th>\n",
       "      <th></th>\n",
       "      <th></th>\n",
       "      <th></th>\n",
       "      <th></th>\n",
       "      <th></th>\n",
       "      <th></th>\n",
       "    </tr>\n",
       "  </thead>\n",
       "  <tbody>\n",
       "    <tr>\n",
       "      <th>0</th>\n",
       "      <td>1</td>\n",
       "      <td>2</td>\n",
       "      <td>0</td>\n",
       "      <td>1</td>\n",
       "      <td>1</td>\n",
       "      <td>2</td>\n",
       "      <td>1</td>\n",
       "      <td>1</td>\n",
       "      <td>590</td>\n",
       "      <td>True</td>\n",
       "      <td>False</td>\n",
       "      <td>False</td>\n",
       "      <td>False</td>\n",
       "      <td>False</td>\n",
       "    </tr>\n",
       "    <tr>\n",
       "      <th>1</th>\n",
       "      <td>1</td>\n",
       "      <td>2</td>\n",
       "      <td>219000</td>\n",
       "      <td>2</td>\n",
       "      <td>1</td>\n",
       "      <td>1</td>\n",
       "      <td>1</td>\n",
       "      <td>1</td>\n",
       "      <td>699</td>\n",
       "      <td>False</td>\n",
       "      <td>False</td>\n",
       "      <td>False</td>\n",
       "      <td>False</td>\n",
       "      <td>False</td>\n",
       "    </tr>\n",
       "    <tr>\n",
       "      <th>2</th>\n",
       "      <td>2</td>\n",
       "      <td>2</td>\n",
       "      <td>260000</td>\n",
       "      <td>1</td>\n",
       "      <td>1</td>\n",
       "      <td>1</td>\n",
       "      <td>1</td>\n",
       "      <td>1</td>\n",
       "      <td>990</td>\n",
       "      <td>False</td>\n",
       "      <td>False</td>\n",
       "      <td>False</td>\n",
       "      <td>False</td>\n",
       "      <td>False</td>\n",
       "    </tr>\n",
       "    <tr>\n",
       "      <th>3</th>\n",
       "      <td>3</td>\n",
       "      <td>4</td>\n",
       "      <td>0</td>\n",
       "      <td>3</td>\n",
       "      <td>1</td>\n",
       "      <td>3</td>\n",
       "      <td>2</td>\n",
       "      <td>1</td>\n",
       "      <td>1050</td>\n",
       "      <td>True</td>\n",
       "      <td>False</td>\n",
       "      <td>False</td>\n",
       "      <td>False</td>\n",
       "      <td>False</td>\n",
       "    </tr>\n",
       "    <tr>\n",
       "      <th>4</th>\n",
       "      <td>1</td>\n",
       "      <td>2</td>\n",
       "      <td>149000</td>\n",
       "      <td>1</td>\n",
       "      <td>1</td>\n",
       "      <td>2</td>\n",
       "      <td>1</td>\n",
       "      <td>1</td>\n",
       "      <td>1199</td>\n",
       "      <td>False</td>\n",
       "      <td>False</td>\n",
       "      <td>False</td>\n",
       "      <td>False</td>\n",
       "      <td>False</td>\n",
       "    </tr>\n",
       "  </tbody>\n",
       "</table>\n",
       "</div>"
      ],
      "text/plain": [
       "    Engine  kW      KM  Type  Drive  Year  Fuel  Transmission  Price  \\\n",
       "No                                                                     \n",
       "0        1   2       0     1      1     2     1             1    590   \n",
       "1        1   2  219000     2      1     1     1             1    699   \n",
       "2        2   2  260000     1      1     1     1             1    990   \n",
       "3        3   4       0     3      1     3     2             1   1050   \n",
       "4        1   2  149000     1      1     2     1             1   1199   \n",
       "\n",
       "    KM_dummy  Type_dummy  Drive_dummy  Fuel_dummy  Transmission_dummy  \n",
       "No                                                                     \n",
       "0       True       False        False       False               False  \n",
       "1      False       False        False       False               False  \n",
       "2      False       False        False       False               False  \n",
       "3       True       False        False       False               False  \n",
       "4      False       False        False       False               False  "
      ]
     },
     "execution_count": 13,
     "metadata": {},
     "output_type": "execute_result"
    }
   ],
   "source": [
    "ML_df.head()"
   ]
  },
  {
   "cell_type": "code",
   "execution_count": 14,
   "metadata": {},
   "outputs": [
    {
     "name": "stdout",
     "output_type": "stream",
     "text": [
      "Our ML model has the following features:\n",
      " ['Engine', 'kW', 'KM', 'Type', 'Drive', 'Year', 'Fuel', 'Transmission', 'KM_dummy', 'Type_dummy', 'Drive_dummy', 'Fuel_dummy', 'Transmission_dummy']\n"
     ]
    }
   ],
   "source": [
    "features = list(ML_df.columns)\n",
    "features.remove('Price')\n",
    "print('Our ML model has the following features:\\n',features)"
   ]
  },
  {
   "cell_type": "markdown",
   "metadata": {},
   "source": [
    "We split the data into three (very small) datasets. One for training, another for testing and the third one for final validation. To split, a module called  \"train_test_split\" is used."
   ]
  },
  {
   "cell_type": "code",
   "execution_count": 31,
   "metadata": {},
   "outputs": [
    {
     "name": "stdout",
     "output_type": "stream",
     "text": [
      "Train dataset: 198 Test dataset: 59 Validation dataset: 36\n"
     ]
    }
   ],
   "source": [
    "from sklearn.model_selection import train_test_split\n",
    "\n",
    "x, X_test, y, y_test = train_test_split(ML_df[features],ML_df['Price'],test_size=0.2,train_size=0.8)\n",
    "X_train, X_validate, y_train, y_validate = train_test_split(x,y,test_size = 0.15,train_size =0.85)\n",
    "\n",
    "print('Train dataset:', len(X_train), 'Test dataset:', len(X_test), 'Validation dataset:', len(X_validate))"
   ]
  },
  {
   "cell_type": "markdown",
   "metadata": {},
   "source": [
    "# Now let's prepare various regression ML algoritms"
   ]
  },
  {
   "cell_type": "markdown",
   "metadata": {},
   "source": [
    "Below is a selection of ML regression algorithms, which can be considered for car predictions. These regression models are used in test scenario here with their default or suggested hyperparametres, no specific parametre tuning has been done"
   ]
  },
  {
   "cell_type": "code",
   "execution_count": 32,
   "metadata": {},
   "outputs": [
    {
     "name": "stdout",
     "output_type": "stream",
     "text": [
      "KNeighbors Regression R2 is:\t\t 0.766\n",
      "Linear Regression R2 is:\t 0.930\n",
      "Ridge Regression R2 is:\t\t 0.930\n",
      "Lasso Regression R2 is:\t\t 0.930\n",
      "Decision Tree Regression R2 is:\t\t 0.952\n",
      "Random Forest Regression R2 is:\t 0.964\n",
      "Gredient Boost Regression R2 is:\t 0.965\n"
     ]
    }
   ],
   "source": [
    "KN = KNeighborsRegressor(n_neighbors=2).fit(X_train,y_train)\n",
    "print('KNeighbors Regression R2 is:\\t\\t','%.3f' %KN.score(X_test,y_test))\n",
    "\n",
    "reg = LinearRegression().fit(X_train, y_train)\n",
    "print('Linear Regression R2 is:\\t','%.3f' %reg.score(X_test,y_test))\n",
    "\n",
    "ridge = RidgeCV(alphas=[1e-3, 1e-2, 1e-1, 1]).fit(X_train, y_train)\n",
    "print('Ridge Regression R2 is:\\t\\t','%.3f' %ridge.score(X_test,y_test))\n",
    "\n",
    "lasso = linear_model.Lasso(alpha=0.1).fit(X_train,y_train)\n",
    "print('Lasso Regression R2 is:\\t\\t','%.3f' %lasso.score(X_test,y_test))\n",
    "\n",
    "tree = DecisionTreeRegressor(max_depth=5).fit(X_train,y_train)\n",
    "print('Decision Tree Regression R2 is:\\t\\t','%.3f' %tree.score(X_test,y_test))\n",
    "\n",
    "forest = RandomForestRegressor(max_depth = 5, n_estimators=100).fit(X_train, y_train)\n",
    "print('Random Forest Regression R2 is:\\t','%.3f' %forest.score(X_test,y_test))\n",
    "\n",
    "params = {'n_estimators': 500, 'max_depth': 5, 'min_samples_split': 2,\n",
    "          'learning_rate': 0.01, 'loss': 'ls'}\n",
    "gradient = GradientBoostingRegressor(**params).fit(X_train,y_train)\n",
    "print('Gredient Boost Regression R2 is:\\t','%.3f' %gradient.score(X_test,y_test))"
   ]
  },
  {
   "cell_type": "markdown",
   "metadata": {},
   "source": [
    "These regression ML algorithms produce different R2, with R2 of Gradient Boosting the highest. R2 is not too ideal for understanding the value of these models and determining which of them is the best, so Mean Absolute Error is used over test set"
   ]
  },
  {
   "cell_type": "code",
   "execution_count": 33,
   "metadata": {},
   "outputs": [
    {
     "name": "stdout",
     "output_type": "stream",
     "text": [
      "KN MAE:\t\t 2093.56\n",
      "Linear MAE:\t 1119.37\n",
      "Ridge MAE:\t 1126.47\n",
      "Lasso MAE:\t 1118.78\n",
      "Tree MAE:\t 957.51\n",
      "Forest MAE:\t 787.06\n",
      "Gradient MAE:\t 787.67\n"
     ]
    }
   ],
   "source": [
    "from sklearn.metrics import mean_absolute_error\n",
    "\n",
    "print('KN MAE:\\t\\t','%.2f' %mean_absolute_error(y_test,KN.predict(X_test[features])))\n",
    "print('Linear MAE:\\t','%.2f' %mean_absolute_error(y_test, reg.predict(X_test[features])))\n",
    "print('Ridge MAE:\\t','%.2f' %mean_absolute_error(y_test, ridge.predict(X_test[features])))\n",
    "print('Lasso MAE:\\t','%.2f' %mean_absolute_error(y_test, lasso.predict(X_test[features])))\n",
    "print('Tree MAE:\\t','%.2f' %mean_absolute_error(y_test, tree.predict(X_test[features])))\n",
    "print('Forest MAE:\\t','%.2f' %mean_absolute_error(y_test, forest.predict(X_test[features])))\n",
    "print('Gradient MAE:\\t','%.2f' %mean_absolute_error(y_test, gradient.predict(X_test[features])))"
   ]
  },
  {
   "cell_type": "markdown",
   "metadata": {},
   "source": [
    "Gradient Boosting and Random Forest give the smallest average error of predicted \"Price\" over the test set. Following is an example of prices predicted by Linear regression and by Gradient Boosting. First, simplest Linear regression is calculated and difference between actual and predicted price is displayed for 10 cars in test set."
   ]
  },
  {
   "cell_type": "code",
   "execution_count": 34,
   "metadata": {},
   "outputs": [
    {
     "name": "stdout",
     "output_type": "stream",
     "text": [
      "Lin. regression price: -368 \t Real Price: 699 \t Difference: 1067\n",
      "Lin. regression price: 7139 \t Real Price: 7500 \t Difference: 361\n",
      "Lin. regression price: 16851 \t Real Price: 16990 \t Difference: 139\n",
      "Lin. regression price: 594 \t Real Price: 2900 \t Difference: 2306\n",
      "Lin. regression price: 13748 \t Real Price: 11990 \t Difference: 1758\n",
      "Lin. regression price: 7331 \t Real Price: 7250 \t Difference: 81\n",
      "Lin. regression price: 13630 \t Real Price: 12000 \t Difference: 1630\n",
      "Lin. regression price: 10227 \t Real Price: 10999 \t Difference: 772\n",
      "Lin. regression price: 12415 \t Real Price: 10700 \t Difference: 1715\n",
      "Lin. regression price: 3559 \t Real Price: 4490 \t Difference: 931\n"
     ]
    }
   ],
   "source": [
    "for price_predicted, price_real in zip(reg.predict(X_test[features])[0:10], y_test[0:10]):\n",
    "    print('Lin. regression price:',int(price_predicted), \n",
    "          '\\t Real Price:',price_real, \n",
    "          '\\t Difference:',abs(int(price_predicted) - price_real))"
   ]
  },
  {
   "cell_type": "markdown",
   "metadata": {},
   "source": [
    "Second, basic Gradient Boosting regression is calculated and difference between actual and predicted price is displayed."
   ]
  },
  {
   "cell_type": "code",
   "execution_count": 35,
   "metadata": {},
   "outputs": [
    {
     "name": "stdout",
     "output_type": "stream",
     "text": [
      "Gradient price: 1018 \t Real Price: 699 \t Difference: 319\n",
      "Gradient price: 6806 \t Real Price: 7500 \t Difference: 694\n",
      "Gradient price: 17661 \t Real Price: 16990 \t Difference: 671\n",
      "Gradient price: 2458 \t Real Price: 2900 \t Difference: 442\n",
      "Gradient price: 12973 \t Real Price: 11990 \t Difference: 983\n",
      "Gradient price: 6473 \t Real Price: 7250 \t Difference: 777\n",
      "Gradient price: 13215 \t Real Price: 12000 \t Difference: 1215\n",
      "Gradient price: 9984 \t Real Price: 10999 \t Difference: 1015\n",
      "Gradient price: 10882 \t Real Price: 10700 \t Difference: 182\n",
      "Gradient price: 3734 \t Real Price: 4490 \t Difference: 756\n"
     ]
    }
   ],
   "source": [
    "for price_predicted, price_real in zip(gradient.predict(X_test[features])[0:10], y_test[0:10]):\n",
    "    print('Gradient price:',int(price_predicted), \n",
    "          '\\t Real Price:',price_real, \n",
    "          '\\t Difference:',abs(int(price_predicted) - price_real))"
   ]
  },
  {
   "cell_type": "markdown",
   "metadata": {},
   "source": [
    "Gradient Boosting regression wins in both R2 and MAE terms. The differences between predicted and actual prices are also smaller than for Linear regression. Can it be further optimized with hyperparametre optimization? Following code tries to optimize, somewhat, the hyperparametres."
   ]
  },
  {
   "cell_type": "code",
   "execution_count": 36,
   "metadata": {},
   "outputs": [
    {
     "name": "stdout",
     "output_type": "stream",
     "text": [
      "4 n_estimators = 500 max_depth =  3 min_samples =  3 learning_rate =  0.01 Test R2 =  0.9692\n",
      "8 n_estimators = 500 max_depth =  3 min_samples =  4 learning_rate =  0.01 Test R2 =  0.9692\n",
      "Optimization cycle completed at i = 144\n"
     ]
    }
   ],
   "source": [
    "nn_estimators = [500, 600, 700]\n",
    "max_depths = [3, 4, 5, 6]\n",
    "min_samples_splits = [2, 3, 4]\n",
    "learning_rate = [0.01, 0.015, 0.02, 0.03]\n",
    "\n",
    "i = 0\n",
    "for n in nn_estimators:\n",
    "    for d in max_depths:\n",
    "        for s in min_samples_splits:\n",
    "            for l in learning_rate:\n",
    "                gradient = GradientBoostingRegressor(n_estimators = n,\n",
    "                                                     max_depth = d,\n",
    "                                                     min_samples_split = s,\n",
    "                                                     learning_rate = l,\n",
    "                                                    ).fit(X_train,y_train)\n",
    "                if i == 0:\n",
    "                    best_train_r2 = gradient.score(X_train,y_train)\n",
    "                    best_test_r2 = gradient.score(X_test,y_test)\n",
    "                else:\n",
    "                    current_train_r2 = gradient.score(X_train,y_train)\n",
    "                    current_test_r2 = gradient.score(X_test,y_test)\n",
    "                    if current_test_r2 > best_test_r2:\n",
    "                        best_test_r2 = current_test_r2\n",
    "                        print(str(i),\n",
    "                              'n_estimators =', n,\n",
    "                             'max_depth = ',d,\n",
    "                             'min_samples = ',s,\n",
    "                             'learning_rate = ', l,\n",
    "                             'Test R2 = ', '%.4f' %best_test_r2)\n",
    "                i += 1\n",
    "print('Optimization cycle completed at i =',str(i))"
   ]
  },
  {
   "cell_type": "markdown",
   "metadata": {},
   "source": [
    "The above optimization found better hyperparametres leading to higher R2. We set Gradient Boosting with those parametres"
   ]
  },
  {
   "cell_type": "code",
   "execution_count": 37,
   "metadata": {},
   "outputs": [
    {
     "name": "stdout",
     "output_type": "stream",
     "text": [
      "Engine \t 0.0009\n",
      "kW \t 0.0020\n",
      "KM \t 0.0312\n",
      "Type \t 0.0004\n",
      "Drive \t 0.0001\n",
      "Year \t 0.9599\n",
      "Fuel \t 0.0011\n",
      "Transmission \t 0.0031\n",
      "KM_dummy \t 0.0009\n",
      "Type_dummy \t 0.0002\n",
      "Drive_dummy \t 0.0001\n",
      "Fuel_dummy \t 0.0000\n",
      "Transmission_dummy \t 0.0000\n"
     ]
    }
   ],
   "source": [
    "opt_params = {'n_estimators': 500, 'max_depth': 3, 'min_samples_split': 4,\n",
    "          'learning_rate': 0.01, 'loss': 'ls'}\n",
    "\n",
    "opt_gradient = GradientBoostingRegressor(**opt_params).fit(X_train,y_train)\n",
    "\n",
    "for f,i in zip(X_train.columns, opt_gradient.feature_importances_):\n",
    "    print(f,'\\t','%.4f' %i)"
   ]
  },
  {
   "cell_type": "markdown",
   "metadata": {},
   "source": [
    "We stop here having an improvement over Linear Regression\n",
    "# Gradient Boosting's results"
   ]
  },
  {
   "cell_type": "markdown",
   "metadata": {},
   "source": [
    "Optimized Gradient Boost regression has MAE of"
   ]
  },
  {
   "cell_type": "code",
   "execution_count": 38,
   "metadata": {},
   "outputs": [
    {
     "name": "stdout",
     "output_type": "stream",
     "text": [
      "Oprtimized Gradient MAE:\t 740.73\n"
     ]
    }
   ],
   "source": [
    "print('Oprtimized Gradient MAE:\\t',\n",
    "      '%.2f' %mean_absolute_error(y_test, opt_gradient.predict(X_test[features])))"
   ]
  },
  {
   "cell_type": "markdown",
   "metadata": {},
   "source": [
    "This is the smallest price difference yet. We also have validation set. How much better is this somewhat optimized Gradient Boosting over Linear Regression?"
   ]
  },
  {
   "cell_type": "code",
   "execution_count": 39,
   "metadata": {},
   "outputs": [
    {
     "name": "stdout",
     "output_type": "stream",
     "text": [
      "Oprtimized Gradient MAE:\t 816.60\n",
      "Standard Regression MAE:\t 1403.68\n"
     ]
    }
   ],
   "source": [
    "print('Oprtimized Gradient MAE:\\t',\n",
    "      '%.2f' %mean_absolute_error(y_validate, opt_gradient.predict(X_validate[features])))\n",
    "print('Standard Regression MAE:\\t',\n",
    "      '%.2f' %mean_absolute_error(y_validate, reg.predict(X_validate[features])))"
   ]
  },
  {
   "cell_type": "code",
   "execution_count": 41,
   "metadata": {},
   "outputs": [
    {
     "name": "stdout",
     "output_type": "stream",
     "text": [
      "Optimized Gradient Boost price: 6907 \t Real Price: 7690 \t Difference: 783\n",
      "Optimized Gradient Boost price: 4118 \t Real Price: 3990 \t Difference: 128\n",
      "Optimized Gradient Boost price: 12969 \t Real Price: 9950 \t Difference: 3019\n",
      "Optimized Gradient Boost price: 9301 \t Real Price: 6990 \t Difference: 2311\n",
      "Optimized Gradient Boost price: 8774 \t Real Price: 8490 \t Difference: 284\n",
      "Optimized Gradient Boost price: 6523 \t Real Price: 5900 \t Difference: 623\n",
      "Optimized Gradient Boost price: 10810 \t Real Price: 9900 \t Difference: 910\n",
      "Optimized Gradient Boost price: 7527 \t Real Price: 8100 \t Difference: 573\n",
      "Optimized Gradient Boost price: 6640 \t Real Price: 5700 \t Difference: 940\n",
      "Optimized Gradient Boost price: 13732 \t Real Price: 13699 \t Difference: 33\n"
     ]
    }
   ],
   "source": [
    "for price_predicted, price_real in zip(opt_gradient.predict(X_validate)[0:10], y_validate):\n",
    "    print('Optimized Gradient Boost price:',int(price_predicted), \n",
    "          '\\t Real Price:',price_real, \n",
    "          '\\t Difference:',abs(int(price_predicted) - price_real))"
   ]
  },
  {
   "cell_type": "code",
   "execution_count": 42,
   "metadata": {},
   "outputs": [
    {
     "name": "stdout",
     "output_type": "stream",
     "text": [
      "Lin. Regression price: 7929 \t\t Real Price: 7690 \t Difference: 239\n",
      "Lin. Regression price: 4637 \t\t Real Price: 3990 \t Difference: 647\n",
      "Lin. Regression price: 14191 \t\t Real Price: 9950 \t Difference: 4241\n",
      "Lin. Regression price: 10918 \t\t Real Price: 6990 \t Difference: 3928\n",
      "Lin. Regression price: 10596 \t\t Real Price: 8490 \t Difference: 2106\n",
      "Lin. Regression price: 7572 \t\t Real Price: 5900 \t Difference: 1672\n",
      "Lin. Regression price: 10626 \t\t Real Price: 9900 \t Difference: 726\n",
      "Lin. Regression price: 8609 \t\t Real Price: 8100 \t Difference: 509\n",
      "Lin. Regression price: 7312 \t\t Real Price: 5700 \t Difference: 1612\n",
      "Lin. Regression price: 13295 \t\t Real Price: 13699 \t Difference: 404\n"
     ]
    }
   ],
   "source": [
    "for price_predicted, price_real in zip(reg.predict(X_validate)[0:10], y_validate):\n",
    "    print('Lin. Regression price:',int(price_predicted), \n",
    "          '\\t\\t Real Price:',price_real, \n",
    "          '\\t Difference:',abs(int(price_predicted) - price_real))"
   ]
  },
  {
   "cell_type": "markdown",
   "metadata": {},
   "source": [
    "Gradint Boosting errors less in predicting prices, making prices predicted closer to market prices. Because validation set was used, this is considered sufficient proof. \n",
    "\n",
    "# Predict price of a car\n",
    "\n",
    "Now let's predict a car price using 'mappings' (see above) to encode a DataFrame with car's parametres and use optimized Gradient Boosting regression as predictor.\n",
    "I enter the cars characteristics and then predict that this 2017 car's price is 20K!"
   ]
  },
  {
   "cell_type": "markdown",
   "metadata": {},
   "source": [
    "Below, entries about our car are made into DataFrame. These entries are encoded. For example car \"Transmission\" (gear box) is encoded to \"3\" when gear box is Automatic.The only unencoded value is KM (21 thousand kilometres)"
   ]
  },
  {
   "cell_type": "code",
   "execution_count": 59,
   "metadata": {
    "collapsed": true
   },
   "outputs": [],
   "source": [
    "my_car = pd.DataFrame(columns = ML_df.columns, index = range(0,1))\n",
    "my_car.Engine[0:1] = 2\n",
    "my_car.kW[0:1] = 11\n",
    "my_car.KM[0:1] = 21000\n",
    "my_car.Type[0:1] = 1\n",
    "my_car.Drive[0:1] = 1\n",
    "my_car.Year[0:1] = 17\n",
    "my_car.Fuel[0:1] = 1\n",
    "my_car.Transmission[0:1] = 3\n",
    "my_car.KM_dummy[0:1] = False\n",
    "my_car.Type_dummy[0:1] = False\n",
    "my_car.Drive_dummy[0:1] = False\n",
    "my_car.Fuel_dummy[0:1] = False\n",
    "my_car.Transmission_dummy[0:1] = False"
   ]
  },
  {
   "cell_type": "code",
   "execution_count": 60,
   "metadata": {},
   "outputs": [
    {
     "name": "stdout",
     "output_type": "stream",
     "text": [
      "This 2017 Toyota Avensis price is:\n"
     ]
    },
    {
     "data": {
      "text/plain": [
       "(20186, 'EUR')"
      ]
     },
     "execution_count": 60,
     "metadata": {},
     "output_type": "execute_result"
    }
   ],
   "source": [
    "print('This 2017 Toyota Avensis price is:')\n",
    "int(opt_gradient.predict(my_car[features])[0]),'EUR'"
   ]
  }
 ],
 "metadata": {
  "anaconda-cloud": {},
  "kernelspec": {
   "display_name": "Python 3",
   "language": "python",
   "name": "python3"
  },
  "language_info": {
   "codemirror_mode": {
    "name": "ipython",
    "version": 3
   },
   "file_extension": ".py",
   "mimetype": "text/x-python",
   "name": "python",
   "nbconvert_exporter": "python",
   "pygments_lexer": "ipython3",
   "version": "3.5.3"
  }
 },
 "nbformat": 4,
 "nbformat_minor": 2
}
